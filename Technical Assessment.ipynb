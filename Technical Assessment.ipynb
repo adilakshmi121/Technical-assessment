{
 "cells": [
  {
   "cell_type": "markdown",
   "id": "4cd0402b",
   "metadata": {},
   "source": [
    "# You will have a number of elements and in the next n lines element of a list. You have to create a list from the given strings. You have to sort the list based on 2nd last character of a string.\n",
    "\n"
   ]
  },
  {
   "cell_type": "code",
   "execution_count": 1,
   "id": "706eb23a",
   "metadata": {},
   "outputs": [
    {
     "name": "stdout",
     "output_type": "stream",
     "text": [
      "Enter the number of elements :4\n",
      "Enter the word :great\n",
      "Enter the word :hello\n",
      "Enter the word :abc\n",
      "Enter the word :hiyo\n",
      "['great', 'abc', 'hello', 'hiyo']\n"
     ]
    }
   ],
   "source": [
    "a = int(input(\"Enter the number of elements :\"))\n",
    "list = []\n",
    "for i in range(a):\n",
    "    n = input(\"Enter the word :\")\n",
    "    list.append(n)\n",
    "list.sort(key=lambda x: x[-2])\n",
    "print(list)"
   ]
  },
  {
   "cell_type": "markdown",
   "id": "d51529a1",
   "metadata": {},
   "source": [
    "# Your task is to complete the validate_triangle and validate_rectangle functions for the classes. Hint for validating is given in the\n",
    "\n",
    " \n",
    "\n",
    "comments of the code. Also you will have to print the following after validation in respective functions:-\n",
    "\n"
   ]
  },
  {
   "cell_type": "code",
   "execution_count": 35,
   "id": "2c3793a2",
   "metadata": {},
   "outputs": [
    {
     "name": "stdout",
     "output_type": "stream",
     "text": [
      "valid triangle\n",
      "Valid rectangle\n"
     ]
    }
   ],
   "source": [
    "class Triangle:\n",
    "    def __init__(self,a,b,c):\n",
    "        self.a = a\n",
    "        self.b = b\n",
    "        self.c = c\n",
    "        \n",
    "    def valid_triangle(self):\n",
    "        if self.a + self.b <= self.c or self.b + self.c <= self.a or self.c + self.a <= self.b:\n",
    "            print(\"Invalid triangle\")\n",
    "        else:\n",
    "            print(\"valid triangle\")\n",
    "            \n",
    "class Rectangle:\n",
    "    def __init__(self,l,b,x,y):\n",
    "        self.l =l\n",
    "        self.b =b\n",
    "        self.x =x\n",
    "        self.y =y\n",
    "    def valid_rectangle(self):\n",
    "        if self.l != self.x or self.b != self.y:\n",
    "            print(\"Invalid rectangle\")\n",
    "        elif 2*(self.l+self.b):\n",
    "            print(\"Valid rectangle\")\n",
    "        else:\n",
    "            print(\"Invalid triangle\")\n",
    "            \n",
    "t = Triangle(2,3,4)\n",
    "t.valid_triangle()\n",
    "r = Rectangle(2,4,2,4)\n",
    "r.valid_rectangle()\n",
    "        "
   ]
  }
 ],
 "metadata": {
  "kernelspec": {
   "display_name": "Python 3 (ipykernel)",
   "language": "python",
   "name": "python3"
  },
  "language_info": {
   "codemirror_mode": {
    "name": "ipython",
    "version": 3
   },
   "file_extension": ".py",
   "mimetype": "text/x-python",
   "name": "python",
   "nbconvert_exporter": "python",
   "pygments_lexer": "ipython3",
   "version": "3.9.13"
  }
 },
 "nbformat": 4,
 "nbformat_minor": 5
}
